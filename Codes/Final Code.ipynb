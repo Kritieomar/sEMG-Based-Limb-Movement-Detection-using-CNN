{
  "cells": [
    {
      "cell_type": "code",
      "execution_count": 22,
      "metadata": {
        "id": "-WCmraDFXVPv"
      },
      "outputs": [],
      "source": [
        "import numpy as np\n",
        "import pandas as pd\n",
        "import seaborn as sns\n",
        "import matplotlib.pyplot as plt\n",
        "from scipy import stats\n",
        "from scipy.spatial.distance import pdist, squareform\n",
        "from skimage.transform import resize\n",
        "\n",
        "from sklearn import metrics, preprocessing\n",
        "from sklearn.model_selection import train_test_split\n",
        "\n",
        "import tensorflow as tf\n",
        "from tensorflow.keras.models import Sequential\n",
        "from tensorflow.keras.layers import Dense, Dropout, Reshape\n",
        "from tensorflow.keras.layers import Embedding, Conv1D, GlobalAveragePooling1D, MaxPooling1D\n",
        "from tensorflow.keras.utils import to_categorical\n"
      ]
    },
    {
      "cell_type": "code",
      "execution_count": 23,
      "metadata": {
        "colab": {
          "base_uri": "https://localhost:8080/"
        },
        "id": "Et2DwE2649am",
        "outputId": "a59351a3-9b5d-460c-dc04-4e8559686d9a"
      },
      "outputs": [],
      "source": [
        "import scipy.io\n",
        "import pandas as pd\n",
        "import numpy as np\n"
      ]
    },
    {
      "cell_type": "code",
      "execution_count": 24,
      "metadata": {
        "colab": {
          "base_uri": "https://localhost:8080/"
        },
        "id": "FnyrGOThZGP4",
        "outputId": "de013655-ce78-4e01-96e4-a4d80de5c6d5"
      },
      "outputs": [],
      "source": [
        "df_final = pd.read_csv(r\"C:\\Users\\kriti\\Downloads\\df_final_dataset_last.csv\")\n"
      ]
    },
    {
      "cell_type": "code",
      "execution_count": 25,
      "metadata": {},
      "outputs": [
        {
          "name": "stdout",
          "output_type": "stream",
          "text": [
            "   label       Ch1       Ch2\n",
            "0      0  0.276211  0.508278\n",
            "1      0  0.021195  0.100154\n",
            "2      0  0.276211  0.151170\n",
            "3      0 -0.386831  0.125662\n",
            "4      0  0.225208 -0.154923\n"
          ]
        }
      ],
      "source": [
        "print(df_final.head())"
      ]
    },
    {
      "cell_type": "code",
      "execution_count": 26,
      "metadata": {
        "colab": {
          "base_uri": "https://localhost:8080/"
        },
        "id": "fjItS3-xZaI2",
        "outputId": "1dea556d-9c5d-4161-f780-c8976dff4e94"
      },
      "outputs": [
        {
          "name": "stdout",
          "output_type": "stream",
          "text": [
            "   label       Ch1       Ch2\n",
            "0      0  0.276211  0.508278\n",
            "1      0  0.021195  0.100154\n",
            "2      0  0.276211  0.151170\n",
            "3      0 -0.386831  0.125662\n",
            "4      0  0.225208 -0.154923\n"
          ]
        }
      ],
      "source": [
        "print(df_final.head())"
      ]
    },
    {
      "cell_type": "code",
      "execution_count": 27,
      "metadata": {
        "colab": {
          "base_uri": "https://localhost:8080/"
        },
        "id": "pWXZS51daA7Y",
        "outputId": "d63995de-d411-4a5c-b402-64d1b11e30c3"
      },
      "outputs": [
        {
          "name": "stdout",
          "output_type": "stream",
          "text": [
            "   label       Ch1       Ch2\n",
            "0      0  0.429221  0.049139\n",
            "1      0  0.021195  0.227693\n",
            "2      0  0.072198  0.202185\n",
            "3      0  0.505726  0.635817\n",
            "4      0  0.225208 -0.052892\n"
          ]
        }
      ],
      "source": [
        "df_final = df_final.sort_values(by='label').reset_index(drop=True)\n",
        "print(df_final.head())"
      ]
    },
    {
      "cell_type": "code",
      "execution_count": 28,
      "metadata": {
        "colab": {
          "base_uri": "https://localhost:8080/",
          "height": 206
        },
        "id": "S_63BeOgbum0",
        "outputId": "8125287d-b959-48d5-8588-fd8be957d76b"
      },
      "outputs": [
        {
          "data": {
            "text/html": [
              "<div>\n",
              "<style scoped>\n",
              "    .dataframe tbody tr th:only-of-type {\n",
              "        vertical-align: middle;\n",
              "    }\n",
              "\n",
              "    .dataframe tbody tr th {\n",
              "        vertical-align: top;\n",
              "    }\n",
              "\n",
              "    .dataframe thead th {\n",
              "        text-align: right;\n",
              "    }\n",
              "</style>\n",
              "<table border=\"1\" class=\"dataframe\">\n",
              "  <thead>\n",
              "    <tr style=\"text-align: right;\">\n",
              "      <th></th>\n",
              "      <th>label</th>\n",
              "      <th>Ch1</th>\n",
              "      <th>Ch2</th>\n",
              "    </tr>\n",
              "  </thead>\n",
              "  <tbody>\n",
              "    <tr>\n",
              "      <th>0</th>\n",
              "      <td>0</td>\n",
              "      <td>0.429221</td>\n",
              "      <td>0.049139</td>\n",
              "    </tr>\n",
              "    <tr>\n",
              "      <th>1</th>\n",
              "      <td>0</td>\n",
              "      <td>0.021195</td>\n",
              "      <td>0.227693</td>\n",
              "    </tr>\n",
              "    <tr>\n",
              "      <th>2</th>\n",
              "      <td>0</td>\n",
              "      <td>0.072198</td>\n",
              "      <td>0.202185</td>\n",
              "    </tr>\n",
              "    <tr>\n",
              "      <th>3</th>\n",
              "      <td>0</td>\n",
              "      <td>0.505726</td>\n",
              "      <td>0.635817</td>\n",
              "    </tr>\n",
              "    <tr>\n",
              "      <th>4</th>\n",
              "      <td>0</td>\n",
              "      <td>0.225208</td>\n",
              "      <td>-0.052892</td>\n",
              "    </tr>\n",
              "  </tbody>\n",
              "</table>\n",
              "</div>"
            ],
            "text/plain": [
              "   label       Ch1       Ch2\n",
              "0      0  0.429221  0.049139\n",
              "1      0  0.021195  0.227693\n",
              "2      0  0.072198  0.202185\n",
              "3      0  0.505726  0.635817\n",
              "4      0  0.225208 -0.052892"
            ]
          },
          "execution_count": 28,
          "metadata": {},
          "output_type": "execute_result"
        }
      ],
      "source": [
        "label = df_final['label']\n",
        "df_v1 = df_final[['Ch1', 'Ch2']]\n",
        "df_final.head()"
      ]
    },
    {
      "cell_type": "code",
      "execution_count": null,
      "metadata": {
        "id": "ya7DSpoDa8X5"
      },
      "outputs": [],
      "source": [
        "import numpy as np\n",
        "from scipy import stats\n",
        "\n",
        "def create_segments_and_labels(df, time_steps, step, label_name):\n",
        "    N_FEATURES = 2 \n",
        "    segments = []\n",
        "    labels = []\n",
        "\n",
        "    \n",
        "    for i in range(0, len(df) - time_steps, step):\n",
        "        xs = df['Ch1'].values[i: i + time_steps]\n",
        "        ys = df['Ch2'].values[i: i + time_steps]\n",
        "\n",
        "        \n",
        "        mode_result = stats.mode(df[label_name][i: i + time_steps])\n",
        "\n",
        "        \n",
        "        label = mode_result.mode if np.isscalar(mode_result.mode) else mode_result.mode[0]\n",
        "\n",
        "        segments.append([xs, ys])\n",
        "        labels.append(label)\n",
        "\n",
        "    reshaped_segments = np.asarray(segments, dtype=np.float32).reshape(-1, time_steps, N_FEATURES)\n",
        "    labels = np.asarray(labels)\n",
        "\n",
        "    return reshaped_segments, labels"
      ]
    },
    {
      "cell_type": "code",
      "execution_count": 30,
      "metadata": {
        "id": "OY1BXvWBa90a"
      },
      "outputs": [],
      "source": [
        "Time_periods = 150\n",
        "step_distance = 10\n",
        "\n",
        "X, Y = create_segments_and_labels(df_final, Time_periods, step_distance, 'label')"
      ]
    },
    {
      "cell_type": "code",
      "execution_count": 31,
      "metadata": {
        "id": "oJgFwjiEczVI"
      },
      "outputs": [],
      "source": [
        "msk = np.random.rand(len(X)) < 0.8\n",
        "X_train = X[msk]\n",
        "Y_train = Y[msk]\n",
        "X_test = X[~msk]\n",
        "Y_test = Y[~msk]"
      ]
    },
    {
      "cell_type": "code",
      "execution_count": 32,
      "metadata": {
        "id": "ShNEGr6hc3sa"
      },
      "outputs": [],
      "source": [
        "X_train.shape\n",
        "idx = np.random.permutation(len(X_train))\n",
        "X_train = X_train[idx]\n",
        "Y_train = Y_train[idx]"
      ]
    },
    {
      "cell_type": "code",
      "execution_count": 33,
      "metadata": {
        "colab": {
          "base_uri": "https://localhost:8080/"
        },
        "id": "03iWyQHVc6eE",
        "outputId": "a3843010-e12e-4ea7-fa70-c8ac54101a53"
      },
      "outputs": [
        {
          "name": "stdout",
          "output_type": "stream",
          "text": [
            "x_train shape: (215747, 300)\n",
            "input_shape: 300\n"
          ]
        },
        {
          "data": {
            "text/plain": [
              "(215747,)"
            ]
          },
          "execution_count": 33,
          "metadata": {},
          "output_type": "execute_result"
        }
      ],
      "source": [
        "input_shape = (Time_periods*2)\n",
        "X_train = X_train.reshape(X_train.shape[0], Time_periods * 2)\n",
        "print('x_train shape:', X_train.shape)\n",
        "print('input_shape:', input_shape)\n",
        "Y_train.shape"
      ]
    },
    {
      "cell_type": "code",
      "execution_count": null,
      "metadata": {},
      "outputs": [
        {
          "name": "stdout",
          "output_type": "stream",
          "text": [
            "New y_train shape:  (215747, 6)\n"
          ]
        }
      ],
      "source": [
        "from tensorflow.keras.utils import to_categorical\n",
        "\n",
        "\n",
        "x_train = X_train.astype('float32')\n",
        "y_train = Y_train.astype('float32')\n",
        "\n",
        "y_train_hot = to_categorical(y_train, 6)\n",
        "print('New y_train shape: ', y_train_hot.shape)\n"
      ]
    },
    {
      "cell_type": "code",
      "execution_count": 35,
      "metadata": {
        "colab": {
          "base_uri": "https://localhost:8080/",
          "height": 551
        },
        "id": "JGoI7W4odP4m",
        "outputId": "f96ca7c2-51e7-4292-d998-8c636d5c412c"
      },
      "outputs": [
        {
          "name": "stderr",
          "output_type": "stream",
          "text": [
            "c:\\Users\\kriti\\python\\Python311\\Lib\\site-packages\\keras\\src\\layers\\reshaping\\reshape.py:39: UserWarning: Do not pass an `input_shape`/`input_dim` argument to a layer. When using Sequential models, prefer using an `Input(shape)` object as the first layer in the model instead.\n",
            "  super().__init__(**kwargs)\n",
            "c:\\Users\\kriti\\python\\Python311\\Lib\\site-packages\\keras\\src\\layers\\convolutional\\base_conv.py:107: UserWarning: Do not pass an `input_shape`/`input_dim` argument to a layer. When using Sequential models, prefer using an `Input(shape)` object as the first layer in the model instead.\n",
            "  super().__init__(activity_regularizer=activity_regularizer, **kwargs)\n"
          ]
        },
        {
          "data": {
            "text/html": [
              "<pre style=\"white-space:pre;overflow-x:auto;line-height:normal;font-family:Menlo,'DejaVu Sans Mono',consolas,'Courier New',monospace\"><span style=\"font-weight: bold\">Model: \"sequential\"</span>\n",
              "</pre>\n"
            ],
            "text/plain": [
              "\u001b[1mModel: \"sequential\"\u001b[0m\n"
            ]
          },
          "metadata": {},
          "output_type": "display_data"
        },
        {
          "data": {
            "text/html": [
              "<pre style=\"white-space:pre;overflow-x:auto;line-height:normal;font-family:Menlo,'DejaVu Sans Mono',consolas,'Courier New',monospace\">┏━━━━━━━━━━━━━━━━━━━━━━━━━━━━━━━━━┳━━━━━━━━━━━━━━━━━━━━━━━━┳━━━━━━━━━━━━━━━┓\n",
              "┃<span style=\"font-weight: bold\"> Layer (type)                    </span>┃<span style=\"font-weight: bold\"> Output Shape           </span>┃<span style=\"font-weight: bold\">       Param # </span>┃\n",
              "┡━━━━━━━━━━━━━━━━━━━━━━━━━━━━━━━━━╇━━━━━━━━━━━━━━━━━━━━━━━━╇━━━━━━━━━━━━━━━┩\n",
              "│ reshape (<span style=\"color: #0087ff; text-decoration-color: #0087ff\">Reshape</span>)               │ (<span style=\"color: #00d7ff; text-decoration-color: #00d7ff\">None</span>, <span style=\"color: #00af00; text-decoration-color: #00af00\">150</span>, <span style=\"color: #00af00; text-decoration-color: #00af00\">2</span>)         │             <span style=\"color: #00af00; text-decoration-color: #00af00\">0</span> │\n",
              "├─────────────────────────────────┼────────────────────────┼───────────────┤\n",
              "│ conv1d (<span style=\"color: #0087ff; text-decoration-color: #0087ff\">Conv1D</span>)                 │ (<span style=\"color: #00d7ff; text-decoration-color: #00d7ff\">None</span>, <span style=\"color: #00af00; text-decoration-color: #00af00\">141</span>, <span style=\"color: #00af00; text-decoration-color: #00af00\">100</span>)       │         <span style=\"color: #00af00; text-decoration-color: #00af00\">2,100</span> │\n",
              "├─────────────────────────────────┼────────────────────────┼───────────────┤\n",
              "│ conv1d_1 (<span style=\"color: #0087ff; text-decoration-color: #0087ff\">Conv1D</span>)               │ (<span style=\"color: #00d7ff; text-decoration-color: #00d7ff\">None</span>, <span style=\"color: #00af00; text-decoration-color: #00af00\">132</span>, <span style=\"color: #00af00; text-decoration-color: #00af00\">100</span>)       │       <span style=\"color: #00af00; text-decoration-color: #00af00\">100,100</span> │\n",
              "├─────────────────────────────────┼────────────────────────┼───────────────┤\n",
              "│ max_pooling1d (<span style=\"color: #0087ff; text-decoration-color: #0087ff\">MaxPooling1D</span>)    │ (<span style=\"color: #00d7ff; text-decoration-color: #00d7ff\">None</span>, <span style=\"color: #00af00; text-decoration-color: #00af00\">44</span>, <span style=\"color: #00af00; text-decoration-color: #00af00\">100</span>)        │             <span style=\"color: #00af00; text-decoration-color: #00af00\">0</span> │\n",
              "├─────────────────────────────────┼────────────────────────┼───────────────┤\n",
              "│ conv1d_2 (<span style=\"color: #0087ff; text-decoration-color: #0087ff\">Conv1D</span>)               │ (<span style=\"color: #00d7ff; text-decoration-color: #00d7ff\">None</span>, <span style=\"color: #00af00; text-decoration-color: #00af00\">35</span>, <span style=\"color: #00af00; text-decoration-color: #00af00\">160</span>)        │       <span style=\"color: #00af00; text-decoration-color: #00af00\">160,160</span> │\n",
              "├─────────────────────────────────┼────────────────────────┼───────────────┤\n",
              "│ conv1d_3 (<span style=\"color: #0087ff; text-decoration-color: #0087ff\">Conv1D</span>)               │ (<span style=\"color: #00d7ff; text-decoration-color: #00d7ff\">None</span>, <span style=\"color: #00af00; text-decoration-color: #00af00\">26</span>, <span style=\"color: #00af00; text-decoration-color: #00af00\">160</span>)        │       <span style=\"color: #00af00; text-decoration-color: #00af00\">256,160</span> │\n",
              "├─────────────────────────────────┼────────────────────────┼───────────────┤\n",
              "│ global_average_pooling1d        │ (<span style=\"color: #00d7ff; text-decoration-color: #00d7ff\">None</span>, <span style=\"color: #00af00; text-decoration-color: #00af00\">160</span>)            │             <span style=\"color: #00af00; text-decoration-color: #00af00\">0</span> │\n",
              "│ (<span style=\"color: #0087ff; text-decoration-color: #0087ff\">GlobalAveragePooling1D</span>)        │                        │               │\n",
              "├─────────────────────────────────┼────────────────────────┼───────────────┤\n",
              "│ dropout (<span style=\"color: #0087ff; text-decoration-color: #0087ff\">Dropout</span>)               │ (<span style=\"color: #00d7ff; text-decoration-color: #00d7ff\">None</span>, <span style=\"color: #00af00; text-decoration-color: #00af00\">160</span>)            │             <span style=\"color: #00af00; text-decoration-color: #00af00\">0</span> │\n",
              "├─────────────────────────────────┼────────────────────────┼───────────────┤\n",
              "│ dense (<span style=\"color: #0087ff; text-decoration-color: #0087ff\">Dense</span>)                   │ (<span style=\"color: #00d7ff; text-decoration-color: #00d7ff\">None</span>, <span style=\"color: #00af00; text-decoration-color: #00af00\">6</span>)              │           <span style=\"color: #00af00; text-decoration-color: #00af00\">966</span> │\n",
              "└─────────────────────────────────┴────────────────────────┴───────────────┘\n",
              "</pre>\n"
            ],
            "text/plain": [
              "┏━━━━━━━━━━━━━━━━━━━━━━━━━━━━━━━━━┳━━━━━━━━━━━━━━━━━━━━━━━━┳━━━━━━━━━━━━━━━┓\n",
              "┃\u001b[1m \u001b[0m\u001b[1mLayer (type)                   \u001b[0m\u001b[1m \u001b[0m┃\u001b[1m \u001b[0m\u001b[1mOutput Shape          \u001b[0m\u001b[1m \u001b[0m┃\u001b[1m \u001b[0m\u001b[1m      Param #\u001b[0m\u001b[1m \u001b[0m┃\n",
              "┡━━━━━━━━━━━━━━━━━━━━━━━━━━━━━━━━━╇━━━━━━━━━━━━━━━━━━━━━━━━╇━━━━━━━━━━━━━━━┩\n",
              "│ reshape (\u001b[38;5;33mReshape\u001b[0m)               │ (\u001b[38;5;45mNone\u001b[0m, \u001b[38;5;34m150\u001b[0m, \u001b[38;5;34m2\u001b[0m)         │             \u001b[38;5;34m0\u001b[0m │\n",
              "├─────────────────────────────────┼────────────────────────┼───────────────┤\n",
              "│ conv1d (\u001b[38;5;33mConv1D\u001b[0m)                 │ (\u001b[38;5;45mNone\u001b[0m, \u001b[38;5;34m141\u001b[0m, \u001b[38;5;34m100\u001b[0m)       │         \u001b[38;5;34m2,100\u001b[0m │\n",
              "├─────────────────────────────────┼────────────────────────┼───────────────┤\n",
              "│ conv1d_1 (\u001b[38;5;33mConv1D\u001b[0m)               │ (\u001b[38;5;45mNone\u001b[0m, \u001b[38;5;34m132\u001b[0m, \u001b[38;5;34m100\u001b[0m)       │       \u001b[38;5;34m100,100\u001b[0m │\n",
              "├─────────────────────────────────┼────────────────────────┼───────────────┤\n",
              "│ max_pooling1d (\u001b[38;5;33mMaxPooling1D\u001b[0m)    │ (\u001b[38;5;45mNone\u001b[0m, \u001b[38;5;34m44\u001b[0m, \u001b[38;5;34m100\u001b[0m)        │             \u001b[38;5;34m0\u001b[0m │\n",
              "├─────────────────────────────────┼────────────────────────┼───────────────┤\n",
              "│ conv1d_2 (\u001b[38;5;33mConv1D\u001b[0m)               │ (\u001b[38;5;45mNone\u001b[0m, \u001b[38;5;34m35\u001b[0m, \u001b[38;5;34m160\u001b[0m)        │       \u001b[38;5;34m160,160\u001b[0m │\n",
              "├─────────────────────────────────┼────────────────────────┼───────────────┤\n",
              "│ conv1d_3 (\u001b[38;5;33mConv1D\u001b[0m)               │ (\u001b[38;5;45mNone\u001b[0m, \u001b[38;5;34m26\u001b[0m, \u001b[38;5;34m160\u001b[0m)        │       \u001b[38;5;34m256,160\u001b[0m │\n",
              "├─────────────────────────────────┼────────────────────────┼───────────────┤\n",
              "│ global_average_pooling1d        │ (\u001b[38;5;45mNone\u001b[0m, \u001b[38;5;34m160\u001b[0m)            │             \u001b[38;5;34m0\u001b[0m │\n",
              "│ (\u001b[38;5;33mGlobalAveragePooling1D\u001b[0m)        │                        │               │\n",
              "├─────────────────────────────────┼────────────────────────┼───────────────┤\n",
              "│ dropout (\u001b[38;5;33mDropout\u001b[0m)               │ (\u001b[38;5;45mNone\u001b[0m, \u001b[38;5;34m160\u001b[0m)            │             \u001b[38;5;34m0\u001b[0m │\n",
              "├─────────────────────────────────┼────────────────────────┼───────────────┤\n",
              "│ dense (\u001b[38;5;33mDense\u001b[0m)                   │ (\u001b[38;5;45mNone\u001b[0m, \u001b[38;5;34m6\u001b[0m)              │           \u001b[38;5;34m966\u001b[0m │\n",
              "└─────────────────────────────────┴────────────────────────┴───────────────┘\n"
            ]
          },
          "metadata": {},
          "output_type": "display_data"
        },
        {
          "data": {
            "text/html": [
              "<pre style=\"white-space:pre;overflow-x:auto;line-height:normal;font-family:Menlo,'DejaVu Sans Mono',consolas,'Courier New',monospace\"><span style=\"font-weight: bold\"> Total params: </span><span style=\"color: #00af00; text-decoration-color: #00af00\">519,486</span> (1.98 MB)\n",
              "</pre>\n"
            ],
            "text/plain": [
              "\u001b[1m Total params: \u001b[0m\u001b[38;5;34m519,486\u001b[0m (1.98 MB)\n"
            ]
          },
          "metadata": {},
          "output_type": "display_data"
        },
        {
          "data": {
            "text/html": [
              "<pre style=\"white-space:pre;overflow-x:auto;line-height:normal;font-family:Menlo,'DejaVu Sans Mono',consolas,'Courier New',monospace\"><span style=\"font-weight: bold\"> Trainable params: </span><span style=\"color: #00af00; text-decoration-color: #00af00\">519,486</span> (1.98 MB)\n",
              "</pre>\n"
            ],
            "text/plain": [
              "\u001b[1m Trainable params: \u001b[0m\u001b[38;5;34m519,486\u001b[0m (1.98 MB)\n"
            ]
          },
          "metadata": {},
          "output_type": "display_data"
        },
        {
          "data": {
            "text/html": [
              "<pre style=\"white-space:pre;overflow-x:auto;line-height:normal;font-family:Menlo,'DejaVu Sans Mono',consolas,'Courier New',monospace\"><span style=\"font-weight: bold\"> Non-trainable params: </span><span style=\"color: #00af00; text-decoration-color: #00af00\">0</span> (0.00 B)\n",
              "</pre>\n"
            ],
            "text/plain": [
              "\u001b[1m Non-trainable params: \u001b[0m\u001b[38;5;34m0\u001b[0m (0.00 B)\n"
            ]
          },
          "metadata": {},
          "output_type": "display_data"
        },
        {
          "name": "stdout",
          "output_type": "stream",
          "text": [
            "None\n"
          ]
        }
      ],
      "source": [
        "model_m = Sequential()\n",
        "model_m.add(Reshape((150, 2), input_shape=(input_shape,)))\n",
        "model_m.add(Conv1D(100, 10, activation='relu', input_shape=(Time_periods, 2)))\n",
        "model_m.add(Conv1D(100, 10, activation='relu'))\n",
        "model_m.add(MaxPooling1D(3))\n",
        "model_m.add(Conv1D(160, 10, activation='relu'))\n",
        "model_m.add(Conv1D(160, 10, activation='relu'))\n",
        "model_m.add(GlobalAveragePooling1D())\n",
        "model_m.add(Dropout(0.5))\n",
        "model_m.add(Dense(6, activation='softmax'))\n",
        "print(model_m.summary())"
      ]
    },
    {
      "cell_type": "code",
      "execution_count": 36,
      "metadata": {
        "colab": {
          "base_uri": "https://localhost:8080/"
        },
        "id": "z_mB0PyKdWlE",
        "outputId": "15749742-a470-479e-f0c2-0da21f65174f"
      },
      "outputs": [
        {
          "name": "stdout",
          "output_type": "stream",
          "text": [
            "Epoch 1/10\n",
            "\u001b[1m5394/5394\u001b[0m \u001b[32m━━━━━━━━━━━━━━━━━━━━\u001b[0m\u001b[37m\u001b[0m \u001b[1m156s\u001b[0m 28ms/step - accuracy: 0.7465 - loss: 0.5384 - val_accuracy: 0.9008 - val_loss: 0.2280\n",
            "Epoch 2/10\n",
            "\u001b[1m5394/5394\u001b[0m \u001b[32m━━━━━━━━━━━━━━━━━━━━\u001b[0m\u001b[37m\u001b[0m \u001b[1m197s\u001b[0m 27ms/step - accuracy: 0.8844 - loss: 0.2745 - val_accuracy: 0.9229 - val_loss: 0.1764\n",
            "Epoch 3/10\n",
            "\u001b[1m5394/5394\u001b[0m \u001b[32m━━━━━━━━━━━━━━━━━━━━\u001b[0m\u001b[37m\u001b[0m \u001b[1m129s\u001b[0m 24ms/step - accuracy: 0.9099 - loss: 0.2208 - val_accuracy: 0.9341 - val_loss: 0.1612\n",
            "Epoch 4/10\n",
            "\u001b[1m5394/5394\u001b[0m \u001b[32m━━━━━━━━━━━━━━━━━━━━\u001b[0m\u001b[37m\u001b[0m \u001b[1m104s\u001b[0m 19ms/step - accuracy: 0.9222 - loss: 0.1941 - val_accuracy: 0.9286 - val_loss: 0.1761\n",
            "Epoch 5/10\n",
            "\u001b[1m5394/5394\u001b[0m \u001b[32m━━━━━━━━━━━━━━━━━━━━\u001b[0m\u001b[37m\u001b[0m \u001b[1m114s\u001b[0m 21ms/step - accuracy: 0.9309 - loss: 0.1743 - val_accuracy: 0.9366 - val_loss: 0.1593\n",
            "Epoch 6/10\n",
            "\u001b[1m5394/5394\u001b[0m \u001b[32m━━━━━━━━━━━━━━━━━━━━\u001b[0m\u001b[37m\u001b[0m \u001b[1m104s\u001b[0m 19ms/step - accuracy: 0.9397 - loss: 0.1511 - val_accuracy: 0.9441 - val_loss: 0.1330\n",
            "Epoch 7/10\n",
            "\u001b[1m5394/5394\u001b[0m \u001b[32m━━━━━━━━━━━━━━━━━━━━\u001b[0m\u001b[37m\u001b[0m \u001b[1m104s\u001b[0m 19ms/step - accuracy: 0.9446 - loss: 0.1387 - val_accuracy: 0.9546 - val_loss: 0.1180\n",
            "Epoch 8/10\n",
            "\u001b[1m5394/5394\u001b[0m \u001b[32m━━━━━━━━━━━━━━━━━━━━\u001b[0m\u001b[37m\u001b[0m \u001b[1m106s\u001b[0m 20ms/step - accuracy: 0.9523 - loss: 0.1211 - val_accuracy: 0.9615 - val_loss: 0.1003\n",
            "Epoch 9/10\n",
            "\u001b[1m5394/5394\u001b[0m \u001b[32m━━━━━━━━━━━━━━━━━━━━\u001b[0m\u001b[37m\u001b[0m \u001b[1m107s\u001b[0m 20ms/step - accuracy: 0.9588 - loss: 0.1068 - val_accuracy: 0.9579 - val_loss: 0.1065\n",
            "Epoch 10/10\n",
            "\u001b[1m5394/5394\u001b[0m \u001b[32m━━━━━━━━━━━━━━━━━━━━\u001b[0m\u001b[37m\u001b[0m \u001b[1m107s\u001b[0m 20ms/step - accuracy: 0.9641 - loss: 0.0949 - val_accuracy: 0.9623 - val_loss: 0.0971\n"
          ]
        }
      ],
      "source": [
        "model_m.compile(loss='categorical_crossentropy',\n",
        "                optimizer='adam', metrics=['accuracy'])\n",
        "\n",
        "BATCH_SIZE = 32\n",
        "EPOCHS = 10\n",
        "\n",
        "history = model_m.fit(x_train,\n",
        "                      y_train_hot,\n",
        "                      batch_size=BATCH_SIZE,\n",
        "                      epochs=EPOCHS,\n",
        "                      validation_split=0.2,\n",
        "                      verbose=1)"
      ]
    },
    {
      "cell_type": "code",
      "execution_count": 37,
      "metadata": {},
      "outputs": [
        {
          "name": "stderr",
          "output_type": "stream",
          "text": [
            "WARNING:absl:You are saving your model as an HDF5 file via `model.save()` or `keras.saving.save_model(model)`. This file format is considered legacy. We recommend using instead the native Keras format, e.g. `model.save('my_model.keras')` or `keras.saving.save_model(model, 'my_model.keras')`. \n"
          ]
        }
      ],
      "source": [
        "model_m.save('lab_model.h5')"
      ]
    },
    {
      "cell_type": "code",
      "execution_count": 38,
      "metadata": {
        "colab": {
          "base_uri": "https://localhost:8080/"
        },
        "id": "Hoj2t2TBwGtb",
        "outputId": "464462c6-de14-4234-ab26-35ed1ffc1dbc"
      },
      "outputs": [
        {
          "name": "stdout",
          "output_type": "stream",
          "text": [
            "\u001b[1m1695/1695\u001b[0m \u001b[32m━━━━━━━━━━━━━━━━━━━━\u001b[0m\u001b[37m\u001b[0m \u001b[1m11s\u001b[0m 7ms/step\n",
            "[0 0 0 ... 5 5 5]\n",
            "[0 0 0 ... 5 5 5]\n"
          ]
        }
      ],
      "source": [
        "input_shape = (Time_periods*2)\n",
        "X_test = X_test.reshape(X_test.shape[0], input_shape)\n",
        "y_pred_test = model_m.predict(X_test)\n",
        "\n",
        "max_y_pred_test = np.argmax(y_pred_test, axis=1)\n",
        "max_y_pred_test.shape\n",
        "print(max_y_pred_test)\n",
        "Y_test = Y_test.astype('int')\n",
        "print(Y_test)"
      ]
    },
    {
      "cell_type": "code",
      "execution_count": 39,
      "metadata": {
        "colab": {
          "base_uri": "https://localhost:8080/"
        },
        "id": "j4tt3EibwLgI",
        "outputId": "8a5b1fff-7e01-4276-9a48-95b24003092d"
      },
      "outputs": [
        {
          "name": "stdout",
          "output_type": "stream",
          "text": [
            "              precision    recall  f1-score   support\n",
            "\n",
            "           0       0.99      1.00      0.99      8954\n",
            "           1       0.99      0.97      0.98      9074\n",
            "           2       0.96      0.85      0.90      9044\n",
            "           3       0.99      0.99      0.99      8968\n",
            "           4       0.98      0.99      0.99      9116\n",
            "           5       0.87      0.97      0.92      9082\n",
            "\n",
            "    accuracy                           0.96     54238\n",
            "   macro avg       0.96      0.96      0.96     54238\n",
            "weighted avg       0.96      0.96      0.96     54238\n",
            "\n"
          ]
        }
      ],
      "source": [
        "from sklearn.metrics import accuracy_score, classification_report\n",
        "\n",
        "accuracy = accuracy_score(Y_test, max_y_pred_test)\n",
        "print(classification_report(Y_test, max_y_pred_test))"
      ]
    },
    {
      "cell_type": "code",
      "execution_count": 40,
      "metadata": {
        "colab": {
          "base_uri": "https://localhost:8080/"
        },
        "id": "hAGq9XaMwhVj",
        "outputId": "6a3cb540-cfb6-4f3e-e981-1ab74a56538f"
      },
      "outputs": [
        {
          "name": "stdout",
          "output_type": "stream",
          "text": [
            "0.9624433054316162\n"
          ]
        }
      ],
      "source": [
        "print(accuracy)"
      ]
    },
    {
      "cell_type": "code",
      "execution_count": null,
      "metadata": {
        "colab": {
          "base_uri": "https://localhost:8080/",
          "height": 472
        },
        "id": "yUqddtFowyiN",
        "outputId": "10a6f5be-f2a0-4116-c683-ba82b142ae0c"
      },
      "outputs": [
        {
          "data": {
            "image/png": "[encoded data removed]",
            "text/plain": [
              "<Figure size 640x480 with 2 Axes>"
            ]
          },
          "metadata": {},
          "output_type": "display_data"
        }
      ],
      "source": [
        "from sklearn.metrics import confusion_matrix, ConfusionMatrixDisplay\n",
        "import matplotlib.pyplot as plt\n",
        "\n",
        "\n",
        "cm = confusion_matrix(Y_test, max_y_pred_test)\n",
        "\n",
        "disp = ConfusionMatrixDisplay(confusion_matrix=cm)\n",
        "disp.plot(cmap=plt.cm.Blues)\n",
        "plt.title('Confusion Matrix')\n",
        "plt.show()\n"
      ]
    },
    {
      "cell_type": "code",
      "execution_count": 42,
      "metadata": {
        "colab": {
          "base_uri": "https://localhost:8080/"
        },
        "id": "g2zgTcndyRHs",
        "outputId": "ac7f97d4-aa15-457a-9d27-55a235d1be38"
      },
      "outputs": [
        {
          "name": "stdout",
          "output_type": "stream",
          "text": [
            "\u001b[1m6743/6743\u001b[0m \u001b[32m━━━━━━━━━━━━━━━━━━━━\u001b[0m\u001b[37m\u001b[0m \u001b[1m49s\u001b[0m 7ms/step\n",
            "Train Accuracy: 0.9729312574450629\n",
            "              precision    recall  f1-score   support\n",
            "\n",
            "           0       0.99      1.00      1.00     36039\n",
            "           1       1.00      0.98      0.99     35926\n",
            "           2       0.98      0.88      0.93     35956\n",
            "           3       1.00      0.99      0.99     36032\n",
            "           4       0.99      1.00      0.99     35884\n",
            "           5       0.90      0.98      0.94     35910\n",
            "\n",
            "    accuracy                           0.97    215747\n",
            "   macro avg       0.97      0.97      0.97    215747\n",
            "weighted avg       0.97      0.97      0.97    215747\n",
            "\n"
          ]
        }
      ],
      "source": [
        "y_pred_train = model_m.predict(x_train)\n",
        "\n",
        "max_y_pred_train = np.argmax(y_pred_train, axis=1)\n",
        "\n",
        "y_train_original = np.argmax(y_train_hot, axis=1) \n",
        "\n",
        "from sklearn.metrics import accuracy_score, classification_report\n",
        "\n",
        "train_accuracy = accuracy_score(y_train_original, max_y_pred_train)\n",
        "print(\"Train Accuracy:\", train_accuracy)\n",
        "\n",
        "print(classification_report(y_train_original, max_y_pred_train))\n"
      ]
    },
    {
      "cell_type": "code",
      "execution_count": 43,
      "metadata": {
        "colab": {
          "base_uri": "https://localhost:8080/"
        },
        "id": "-jTwo_sIztKy",
        "outputId": "23a81aa9-6177-4e4e-be11-2f4186dbcb5c"
      },
      "outputs": [
        {
          "name": "stdout",
          "output_type": "stream",
          "text": [
            "0.9729312574450629\n"
          ]
        }
      ],
      "source": [
        "print(train_accuracy)"
      ]
    },
    {
      "cell_type": "code",
      "execution_count": null,
      "metadata": {
        "colab": {
          "base_uri": "https://localhost:8080/",
          "height": 564
        },
        "id": "AY-DM5FbzsCK",
        "outputId": "ad14cc50-698a-4350-a5ba-7f60bd6b802c"
      },
      "outputs": [
        {
          "data": {
            "image/png": "[encoded data removed]",
            "text/plain": [
              "<Figure size 800x600 with 2 Axes>"
            ]
          },
          "metadata": {},
          "output_type": "display_data"
        }
      ],
      "source": [
        "\n",
        "cm_train = confusion_matrix(y_train_original, max_y_pred_train)\n",
        "\n",
        "plt.figure(figsize=(8,6))\n",
        "sns.heatmap(cm_train, annot=True, fmt=\"d\", cmap=\"Blues\")\n",
        "plt.xlabel('Predicted Label')\n",
        "plt.ylabel('True Label')\n",
        "plt.title('Confusion Matrix - Train Data')\n",
        "plt.show()\n"
      ]
    },
    {
      "cell_type": "code",
      "execution_count": 45,
      "metadata": {
        "colab": {
          "base_uri": "https://localhost:8080/"
        },
        "id": "X00TwtOaz3vh",
        "outputId": "29b44bbd-71ea-4edd-da25-c2540082e46d"
      },
      "outputs": [
        {
          "name": "stdout",
          "output_type": "stream",
          "text": [
            "8100000\n"
          ]
        }
      ],
      "source": [
        "print(df_final.size)\n"
      ]
    },
    {
      "cell_type": "code",
      "execution_count": 46,
      "metadata": {
        "colab": {
          "base_uri": "https://localhost:8080/"
        },
        "id": "qGeeARSJ0Cao",
        "outputId": "9bbc1faf-3e6a-4f3c-e544-a14021cf26bd"
      },
      "outputs": [
        {
          "name": "stdout",
          "output_type": "stream",
          "text": [
            "(2700000, 3)\n"
          ]
        }
      ],
      "source": [
        "print(df_final.shape)\n"
      ]
    },
    {
      "cell_type": "code",
      "execution_count": 47,
      "metadata": {
        "colab": {
          "base_uri": "https://localhost:8080/"
        },
        "id": "A3rJvxQd07Ph",
        "outputId": "345fc1b5-de6d-4811-aa9a-7e324b1f6cd3"
      },
      "outputs": [
        {
          "name": "stdout",
          "output_type": "stream",
          "text": [
            "215747\n",
            "215747\n"
          ]
        }
      ],
      "source": [
        "print(X_train.shape[0])\n",
        "print(Y_train.shape[0])\n"
      ]
    },
    {
      "cell_type": "code",
      "execution_count": 56,
      "metadata": {},
      "outputs": [
        {
          "data": {
            "text/html": [
              "<div>\n",
              "<style scoped>\n",
              "    .dataframe tbody tr th:only-of-type {\n",
              "        vertical-align: middle;\n",
              "    }\n",
              "\n",
              "    .dataframe tbody tr th {\n",
              "        vertical-align: top;\n",
              "    }\n",
              "\n",
              "    .dataframe thead th {\n",
              "        text-align: right;\n",
              "    }\n",
              "</style>\n",
              "<table border=\"1\" class=\"dataframe\">\n",
              "  <thead>\n",
              "    <tr style=\"text-align: right;\">\n",
              "      <th></th>\n",
              "      <th>label</th>\n",
              "      <th>Ch1</th>\n",
              "      <th>Ch2</th>\n",
              "    </tr>\n",
              "  </thead>\n",
              "  <tbody>\n",
              "    <tr>\n",
              "      <th>0</th>\n",
              "      <td>0</td>\n",
              "      <td>0.072198</td>\n",
              "      <td>0.151170</td>\n",
              "    </tr>\n",
              "    <tr>\n",
              "      <th>1</th>\n",
              "      <td>0</td>\n",
              "      <td>0.760742</td>\n",
              "      <td>-0.180431</td>\n",
              "    </tr>\n",
              "    <tr>\n",
              "      <th>2</th>\n",
              "      <td>0</td>\n",
              "      <td>-0.539841</td>\n",
              "      <td>0.763355</td>\n",
              "    </tr>\n",
              "    <tr>\n",
              "      <th>3</th>\n",
              "      <td>0</td>\n",
              "      <td>0.174205</td>\n",
              "      <td>0.584801</td>\n",
              "    </tr>\n",
              "    <tr>\n",
              "      <th>4</th>\n",
              "      <td>0</td>\n",
              "      <td>-1.355893</td>\n",
              "      <td>0.304216</td>\n",
              "    </tr>\n",
              "  </tbody>\n",
              "</table>\n",
              "</div>"
            ],
            "text/plain": [
              "   label       Ch1       Ch2\n",
              "0      0  0.072198  0.151170\n",
              "1      0  0.760742 -0.180431\n",
              "2      0 -0.539841  0.763355\n",
              "3      0  0.174205  0.584801\n",
              "4      0 -1.355893  0.304216"
            ]
          },
          "execution_count": 56,
          "metadata": {},
          "output_type": "execute_result"
        }
      ],
      "source": [
        "tom = pd.read_csv(r\"C:\\Users\\kriti\\OneDrive\\Desktop\\final_df1.csv\")\n",
        "tom.head()"
      ]
    },
    {
      "cell_type": "code",
      "execution_count": 57,
      "metadata": {},
      "outputs": [
        {
          "data": {
            "text/html": [
              "<div>\n",
              "<style scoped>\n",
              "    .dataframe tbody tr th:only-of-type {\n",
              "        vertical-align: middle;\n",
              "    }\n",
              "\n",
              "    .dataframe tbody tr th {\n",
              "        vertical-align: top;\n",
              "    }\n",
              "\n",
              "    .dataframe thead th {\n",
              "        text-align: right;\n",
              "    }\n",
              "</style>\n",
              "<table border=\"1\" class=\"dataframe\">\n",
              "  <thead>\n",
              "    <tr style=\"text-align: right;\">\n",
              "      <th></th>\n",
              "      <th>label</th>\n",
              "      <th>Ch1</th>\n",
              "      <th>Ch2</th>\n",
              "    </tr>\n",
              "  </thead>\n",
              "  <tbody>\n",
              "    <tr>\n",
              "      <th>0</th>\n",
              "      <td>0</td>\n",
              "      <td>0.072198</td>\n",
              "      <td>0.151170</td>\n",
              "    </tr>\n",
              "    <tr>\n",
              "      <th>1</th>\n",
              "      <td>0</td>\n",
              "      <td>0.760742</td>\n",
              "      <td>-0.180431</td>\n",
              "    </tr>\n",
              "    <tr>\n",
              "      <th>2</th>\n",
              "      <td>0</td>\n",
              "      <td>-0.539841</td>\n",
              "      <td>0.763355</td>\n",
              "    </tr>\n",
              "    <tr>\n",
              "      <th>3</th>\n",
              "      <td>0</td>\n",
              "      <td>0.174205</td>\n",
              "      <td>0.584801</td>\n",
              "    </tr>\n",
              "    <tr>\n",
              "      <th>4</th>\n",
              "      <td>0</td>\n",
              "      <td>-1.355893</td>\n",
              "      <td>0.304216</td>\n",
              "    </tr>\n",
              "  </tbody>\n",
              "</table>\n",
              "</div>"
            ],
            "text/plain": [
              "   label       Ch1       Ch2\n",
              "0      0  0.072198  0.151170\n",
              "1      0  0.760742 -0.180431\n",
              "2      0 -0.539841  0.763355\n",
              "3      0  0.174205  0.584801\n",
              "4      0 -1.355893  0.304216"
            ]
          },
          "execution_count": 57,
          "metadata": {},
          "output_type": "execute_result"
        }
      ],
      "source": [
        "tom = tom.dropna(axis=1)\n",
        "tom.head()"
      ]
    },
    {
      "cell_type": "code",
      "execution_count": 58,
      "metadata": {},
      "outputs": [
        {
          "name": "stdout",
          "output_type": "stream",
          "text": [
            "   label       Ch1       Ch2\n",
            "0      0  0.072198  0.151170\n",
            "1      0  0.760742 -0.180431\n",
            "2      0 -0.539841  0.763355\n",
            "3      0  0.174205  0.584801\n",
            "4      0 -1.355893  0.304216\n"
          ]
        }
      ],
      "source": [
        "tom = tom.rename(columns={'CH1': 'Ch1', 'CH2': 'Ch2'})\n",
        "\n",
        "print(tom.head())\n"
      ]
    },
    {
      "cell_type": "code",
      "execution_count": 59,
      "metadata": {},
      "outputs": [],
      "source": [
        "tomX, tomY = create_segments_and_labels(tom, Time_periods, step_distance, 'label')"
      ]
    },
    {
      "cell_type": "code",
      "execution_count": 60,
      "metadata": {},
      "outputs": [
        {
          "name": "stdout",
          "output_type": "stream",
          "text": [
            "\u001b[1m156/156\u001b[0m \u001b[32m━━━━━━━━━━━━━━━━━━━━\u001b[0m\u001b[37m\u001b[0m \u001b[1m1s\u001b[0m 7ms/step\n",
            "(4985,)\n",
            "[0 0 0 ... 5 5 5]\n",
            "[0 0 0 ... 5 5 5]\n"
          ]
        }
      ],
      "source": [
        "input_shape = (Time_periods * 2)\n",
        "tomX = tomX.reshape(tomX.shape[0], input_shape)\n",
        "\n",
        "y_pred_test = model_m.predict(tomX)\n",
        "\n",
        "max_y_pred_test = np.argmax(y_pred_test, axis=1)\n",
        "\n",
        "print(max_y_pred_test.shape)\n",
        "\n",
        "print(max_y_pred_test)\n",
        "\n",
        "tomY = tomY.astype('int')\n",
        "\n",
        "print(tomY)\n"
      ]
    },
    {
      "cell_type": "code",
      "execution_count": 63,
      "metadata": {},
      "outputs": [],
      "source": [
        "label_mapping = {'cyl': 0, 'hook': 1, 'tip': 2, 'palm': 3, 'spher': 4, 'lat': 5}"
      ]
    },
    {
      "cell_type": "code",
      "execution_count": 64,
      "metadata": {},
      "outputs": [
        {
          "name": "stdout",
          "output_type": "stream",
          "text": [
            "Classification Report:\n",
            "              precision    recall  f1-score   support\n",
            "\n",
            "         cyl       0.89      0.81      0.85       826\n",
            "        hook       0.81      0.81      0.81       834\n",
            "         tip       0.96      0.53      0.68       833\n",
            "        palm       0.93      0.92      0.93       833\n",
            "       spher       0.83      0.80      0.81       834\n",
            "         lat       0.63      1.00      0.77       825\n",
            "\n",
            "    accuracy                           0.81      4985\n",
            "   macro avg       0.84      0.81      0.81      4985\n",
            "weighted avg       0.84      0.81      0.81      4985\n",
            "\n",
            "Accuracy: 0.8118355065195587\n",
            "Confusion Matrix:\n",
            "[[673 153   0   0   0   0]\n",
            " [ 17 679   0   0 138   0]\n",
            " [  5   0 441  54   0 333]\n",
            " [ 62   4   0 766   1   0]\n",
            " [  0   3  13   3 667 148]\n",
            " [  0   0   4   0   0 821]]\n"
          ]
        }
      ],
      "source": [
        "inv_label_mapping = {v: k for k, v in label_mapping.items()}\n",
        "\n",
        "accuracy = accuracy_score(tomY, max_y_pred_test)\n",
        "\n",
        "print(\"Classification Report:\")\n",
        "\n",
        "print(classification_report(\n",
        "    tomY, max_y_pred_test, \n",
        "    labels=list(inv_label_mapping.keys()), \n",
        "    target_names=[inv_label_mapping[i] for i in inv_label_mapping.keys()]\n",
        "))\n",
        "\n",
        "print(\"Accuracy:\", accuracy)\n",
        "\n",
        "print(\"Confusion Matrix:\")\n",
        "cm_train = confusion_matrix(tomY, max_y_pred_test)\n",
        "print(cm_train)"
      ]
    },
    {
      "cell_type": "code",
      "execution_count": 65,
      "metadata": {},
      "outputs": [
        {
          "data": {
            "text/plain": [
              "0.8118355065195587"
            ]
          },
          "execution_count": 65,
          "metadata": {},
          "output_type": "execute_result"
        }
      ],
      "source": [
        "accuracy"
      ]
    },
    {
      "cell_type": "code",
      "execution_count": null,
      "metadata": {},
      "outputs": [
        {
          "data": {
            "image/png": "[encoded data removed]",
            "text/plain": [
              "<Figure size 800x600 with 2 Axes>"
            ]
          },
          "metadata": {},
          "output_type": "display_data"
        }
      ],
      "source": [
        "\n",
        "plt.figure(figsize=(8,6))\n",
        "sns.heatmap(\n",
        "    cm_train, \n",
        "    annot=True, \n",
        "    fmt=\"d\", \n",
        "    cmap=\"Blues\",\n",
        "    xticklabels=[inv_label_mapping[i] for i in range(len(inv_label_mapping))],\n",
        "    yticklabels=[inv_label_mapping[i] for i in range(len(inv_label_mapping))]\n",
        ")\n",
        "plt.xlabel('Predicted Label')\n",
        "plt.ylabel('True Label')\n",
        "plt.title('Confusion Matrix - Train Data')\n",
        "plt.show()"
      ]
    }
  ],
  "metadata": {
    "colab": {
      "provenance": []
    },
    "kernelspec": {
      "display_name": "Python 3",
      "name": "python3"
    },
    "language_info": {
      "codemirror_mode": {
        "name": "ipython",
        "version": 3
      },
      "file_extension": ".py",
      "mimetype": "text/x-python",
      "name": "python",
      "nbconvert_exporter": "python",
      "pygments_lexer": "ipython3",
      "version": "3.11.8"
    }
  },
  "nbformat": 4,
  "nbformat_minor": 0
}
